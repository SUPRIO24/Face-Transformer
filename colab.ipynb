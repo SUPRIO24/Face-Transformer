{
  "cells": [
    {
      "cell_type": "markdown",
      "metadata": {
        "id": "b3SG5MXkcXh6"
      },
      "source": [
        "# Face Transformer for Recognition\n"
      ]
    },
    {
      "cell_type": "markdown",
      "metadata": {
        "id": "OfWiGFMJcS17"
      },
      "source": [
        "## Connect with Google Drive\n"
      ]
    },
    {
      "cell_type": "code",
      "execution_count": null,
      "metadata": {
        "id": "n45fEaT7Qzyo"
      },
      "outputs": [],
      "source": [
        "from google.colab import drive\n",
        "\n",
        "drive.mount(\"/content/drive\")"
      ]
    },
    {
      "cell_type": "code",
      "execution_count": null,
      "metadata": {
        "id": "azOAeFABRwVG"
      },
      "outputs": [],
      "source": [
        "import os\n",
        "\n",
        "os.chdir(\"/content/drive/MyDrive/Face Transformer\")"
      ]
    },
    {
      "cell_type": "code",
      "execution_count": null,
      "metadata": {
        "colab": {
          "base_uri": "https://localhost:8080/"
        },
        "id": "wGv6ZtGVR1q7",
        "outputId": "eb139b35-4d64-4a6e-defe-3b7dac76c945"
      },
      "outputs": [],
      "source": [
        "!ls"
      ]
    },
    {
      "cell_type": "markdown",
      "metadata": {
        "id": "ZBYFMdV8cjRe"
      },
      "source": [
        "## Checking the GPU\n"
      ]
    },
    {
      "cell_type": "code",
      "execution_count": null,
      "metadata": {
        "colab": {
          "base_uri": "https://localhost:8080/"
        },
        "id": "RFnWZmMHYtP2",
        "outputId": "b4eec624-cdfb-4b31-de09-25d4854dfa02"
      },
      "outputs": [],
      "source": [
        "!nvidia-smi"
      ]
    },
    {
      "cell_type": "markdown",
      "metadata": {
        "id": "jva86WWKctN2"
      },
      "source": [
        "## Install the requirements\n"
      ]
    },
    {
      "cell_type": "code",
      "execution_count": null,
      "metadata": {
        "id": "DjA1JxaBQQTf"
      },
      "outputs": [],
      "source": [
        "%pip install opencv-python mxnet numpy matplotlib scikit-learn IPython vit_pytorch timm Pillow scipy einops tensorboardX fvcore pyyaml\n",
        "%pip install torch torchvision --index-url https://download.pytorch.org/whl/cu118\n",
        "%pip install natten -f https://shi-labs.com/natten/wheels/cu118/torch2.0.0/index.html"
      ]
    },
    {
      "cell_type": "markdown",
      "metadata": {
        "id": "9VBO1KEqJOIj"
      },
      "source": [
        "## Command Line Interpretation\n",
        "\n",
        "- **`CUDA_VISIBLE_DEVICES`** : Enter the GPU ID (`0`, `1`, `2`, `3`).\n",
        "\n",
        "- **`-w` (`--workers_id`)** : Enter the Worker ID (`0`, `1`, `2`, `3`) [Same as GPU ID].\n",
        "\n",
        "- **`-b` (`--batch_size`)** : Batch Size [Here it refers to `256`. Change according to GPU memory. eg. for **Nvidia GeForce GTX 1650 4GB GPU** it refers to `13` for `retina` & `16` for `casia`].\n",
        "\n",
        "- **`-d` (`--data_mode`)** : Use which Database [`casia`, `vgg`, `ms1m`, `retina`, `ms1mr`]. Here it refers to `retina` & `casia`.\n",
        "\n",
        "- **`-n` (`--net`)** : Which Network [`VIT`, `VITs`, `SWT`, `NAT`]. Here it refers to `VIT` & `VITs`.\n",
        "\n",
        "- **`--outdir` (Output Directory)** : Change the `output_dir` to the name of the dataset in the `./models/ViT-PxSx_<output_dir>_cosface_sx`. Here it refers to `retina` & `casia`."
      ]
    },
    {
      "cell_type": "markdown",
      "metadata": {
        "id": "DLhr-d8yJOIj"
      },
      "source": [
        "### `ViT-P8S8`\n"
      ]
    },
    {
      "cell_type": "markdown",
      "metadata": {},
      "source": [
        "- #### `ViT-P8S8_retina_cosface_s1`"
      ]
    },
    {
      "cell_type": "code",
      "execution_count": null,
      "metadata": {},
      "outputs": [],
      "source": [
        "!CUDA_VISIBLE_DEVICES='0' python3 -u train.py -b 256 -w 0 -d retina -n VIT -head CosFace --outdir ./results/ViT-P8S8_retina_cosface_s1 --warmup-epochs 1 --lr 3e-4"
      ]
    },
    {
      "cell_type": "markdown",
      "metadata": {
        "id": "EQWmy6FnJOIj"
      },
      "source": [
        "- #### `ViT-P8S8_casia_cosface_s1`"
      ]
    },
    {
      "cell_type": "code",
      "execution_count": null,
      "metadata": {
        "colab": {
          "base_uri": "https://localhost:8080/"
        },
        "id": "LbXp0JAlJOIj",
        "outputId": "ceff538c-e4bf-48a5-e5d5-e7e4c48279ec"
      },
      "outputs": [],
      "source": [
        "!CUDA_VISIBLE_DEVICES='0' python3 -u train.py -b 256 -w 0 -d casia -n VIT -head CosFace --outdir ./results/ViT-P8S8_casia_cosface_s1 --warmup-epochs 1 --lr 3e-4"
      ]
    },
    {
      "cell_type": "markdown",
      "metadata": {},
      "source": [
        "- #### `ViT-P8S8_retina_cosface_s2`"
      ]
    },
    {
      "cell_type": "code",
      "execution_count": null,
      "metadata": {},
      "outputs": [],
      "source": [
        "!CUDA_VISIBLE_DEVICES='0' python3 -u train.py -b 256 -w 0 -d retina -n VIT -head CosFace --outdir ./results/ViT-P8S8_retina_cosface_s2 --warmup-epochs 0 --lr 1e-4 -r ./results/ViT-P8S8_retina_cosface_s1/Backbone_VIT_LR_checkpoint.pth"
      ]
    },
    {
      "cell_type": "markdown",
      "metadata": {
        "id": "tt3Tq9U7JOIk"
      },
      "source": [
        "- #### `ViT-P8S8_casia_cosface_s2`"
      ]
    },
    {
      "cell_type": "code",
      "execution_count": null,
      "metadata": {
        "id": "NlYdG0rnJOIk"
      },
      "outputs": [],
      "source": [
        "!CUDA_VISIBLE_DEVICES='0' python3 -u train.py -b 256 -w 0 -d casia -n VIT -head CosFace --outdir ./results/ViT-P8S8_casia_cosface_s2 --warmup-epochs 0 --lr 1e-4 -r ./results/ViT-P8S8_casia_cosface_s1/Backbone_VIT_LR_checkpoint.pth"
      ]
    },
    {
      "cell_type": "markdown",
      "metadata": {},
      "source": [
        "- #### `ViT-P8S8_retina_cosface_s3`"
      ]
    },
    {
      "cell_type": "code",
      "execution_count": null,
      "metadata": {},
      "outputs": [],
      "source": [
        "!CUDA_VISIBLE_DEVICES='0' python3 -u train.py -b 256 -w 0 -d retina -n VIT -head CosFace --outdir ./results/ViT-P8S8_retina_cosface_s3 --warmup-epochs 0 --lr 5e-5 -r ./results/ViT-P8S8_retina_cosface_s2/Backbone_VIT_LR_checkpoint.pth"
      ]
    },
    {
      "cell_type": "markdown",
      "metadata": {
        "id": "9UZQeSEeJOIk"
      },
      "source": [
        "- #### `ViT-P8S8_casia_cosface_s3`"
      ]
    },
    {
      "cell_type": "code",
      "execution_count": null,
      "metadata": {
        "id": "SaHjowFnJOIl"
      },
      "outputs": [],
      "source": [
        "!CUDA_VISIBLE_DEVICES='0' python3 -u train.py -b 256 -w 0 -d casia -n VIT -head CosFace --outdir ./results/ViT-P8S8_casia_cosface_s3 --warmup-epochs 0 --lr 5e-5 -r ./results/ViT-P8S8_casia_cosface_s2/Backbone_VIT_LR_checkpoint.pth"
      ]
    },
    {
      "cell_type": "markdown",
      "metadata": {
        "id": "PvIpYBHdJOIl"
      },
      "source": [
        "### `ViT-P12S8`\n"
      ]
    },
    {
      "cell_type": "markdown",
      "metadata": {},
      "source": [
        "- #### `ViT-P12S8_retina_cosface_s1`"
      ]
    },
    {
      "cell_type": "code",
      "execution_count": null,
      "metadata": {},
      "outputs": [],
      "source": [
        "!CUDA_VISIBLE_DEVICES='0' python3 -u train.py -b 256 -w 0 -d retina -n VITs -head CosFace --outdir ./results/ViTs-P12S8_retina_cosface_s1 --warmup-epochs 1 --lr 3e-4"
      ]
    },
    {
      "cell_type": "markdown",
      "metadata": {
        "id": "B_nHikPBJOIm"
      },
      "source": [
        "- #### `ViT-P12S8_casia_cosface_s1`"
      ]
    },
    {
      "cell_type": "code",
      "execution_count": null,
      "metadata": {
        "id": "PTVtyrtIdMpR"
      },
      "outputs": [],
      "source": [
        "!CUDA_VISIBLE_DEVICES='0' python3 -u train.py -b 256 -w 0 -d casia -n VITs -head CosFace --outdir ./results/ViTs-P12S8_casia_cosface_s1 --warmup-epochs 1 --lr 3e-4"
      ]
    },
    {
      "cell_type": "markdown",
      "metadata": {},
      "source": [
        "- #### `ViT-P12S8_retina_cosface_s2`"
      ]
    },
    {
      "cell_type": "code",
      "execution_count": null,
      "metadata": {},
      "outputs": [],
      "source": [
        "!CUDA_VISIBLE_DEVICES='0' python3 -u train.py -b 256 -w 0 -d retina -n VITs -head CosFace --outdir ./results/ViTs-P12S8_retina_cosface_s2 --warmup-epochs 0 --lr 1e-4 -r ./results/ViTs-P12S8_retina_cosface_s1/Backbone_VITs_LR_checkpoint.pth"
      ]
    },
    {
      "cell_type": "markdown",
      "metadata": {
        "id": "KCvZUa8PJOIm"
      },
      "source": [
        "- #### `ViT-P12S8_casia_cosface_s2`"
      ]
    },
    {
      "cell_type": "code",
      "execution_count": null,
      "metadata": {
        "id": "glUwsI14JOIm"
      },
      "outputs": [],
      "source": [
        "!CUDA_VISIBLE_DEVICES='0' python3 -u train.py -b 256 -w 0 -d casia -n VITs -head CosFace --outdir ./results/ViTs-P12S8_casia_cosface_s2 --warmup-epochs 0 --lr 1e-4 -r ./results/ViTs-P12S8_casia_cosface_s1/Backbone_VITs_LR_checkpoint.pth"
      ]
    },
    {
      "cell_type": "markdown",
      "metadata": {},
      "source": [
        "- #### `ViT-P12S8_retina_cosface_s3`"
      ]
    },
    {
      "cell_type": "code",
      "execution_count": null,
      "metadata": {},
      "outputs": [],
      "source": [
        "!CUDA_VISIBLE_DEVICES='0' python3 -u train.py -b 256 -w 0 -d retina -n VITs -head CosFace --outdir ./results/ViTs-P12S8_retina_cosface_s3 --warmup-epochs 0 --lr 5e-5 -r ./results/ViTs-P12S8_retina_cosface_s2/Backbone_VITs_LR_checkpoint.pth"
      ]
    },
    {
      "cell_type": "markdown",
      "metadata": {
        "id": "WNMrkJ_hJOIn"
      },
      "source": [
        "- #### `ViT-P12S8_casia_cosface_s3`\n"
      ]
    },
    {
      "cell_type": "code",
      "execution_count": null,
      "metadata": {
        "id": "MtshukQCgYhG"
      },
      "outputs": [],
      "source": [
        "!CUDA_VISIBLE_DEVICES='0' python3 -u train.py -b 256 -w 0 -d casia -n VITs -head CosFace --outdir ./results/ViTs-P12S8_casia_cosface_s3 --warmup-epochs 0 --lr 5e-5 -r ./results/ViTs-P12S8_casia_cosface_s2/Backbone_VITs_LR_checkpoint.pth"
      ]
    }
  ],
  "metadata": {
    "accelerator": "GPU",
    "colab": {
      "gpuType": "T4",
      "provenance": []
    },
    "kernelspec": {
      "display_name": "Python 3",
      "name": "python3"
    },
    "language_info": {
      "codemirror_mode": {
        "name": "ipython",
        "version": 3
      },
      "file_extension": ".py",
      "mimetype": "text/x-python",
      "name": "python",
      "nbconvert_exporter": "python",
      "pygments_lexer": "ipython3",
      "version": "3.10.12"
    }
  },
  "nbformat": 4,
  "nbformat_minor": 0
}
